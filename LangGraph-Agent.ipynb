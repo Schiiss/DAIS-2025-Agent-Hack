{
 "cells": [
  {
   "cell_type": "markdown",
   "metadata": {
    "application/vnd.databricks.v1+cell": {
     "cellMetadata": {},
     "inputWidgets": {},
     "nuid": "fafee813-3008-4cdf-ae28-d7ffeb56cba4",
     "showTitle": false,
     "tableResultSettingsMap": {},
     "title": ""
    }
   },
   "source": [
    "## Install Libraries"
   ]
  },
  {
   "cell_type": "code",
   "execution_count": 0,
   "metadata": {
    "application/vnd.databricks.v1+cell": {
     "cellMetadata": {
      "byteLimit": 2048000,
      "rowLimit": 10000
     },
     "inputWidgets": {},
     "nuid": "876b2bc4-9c5c-43e9-8e4d-48e6d700a13c",
     "showTitle": false,
     "tableResultSettingsMap": {},
     "title": ""
    }
   },
   "outputs": [],
   "source": [
    "%pip install -U -qqqq databricks-langchain langgraph==0.3.4 langchain mlflow \n",
    "%restart_python"
   ]
  },
  {
   "cell_type": "markdown",
   "metadata": {
    "application/vnd.databricks.v1+cell": {
     "cellMetadata": {},
     "inputWidgets": {},
     "nuid": "86f38a42-d53b-4003-8cc2-940eb36cb569",
     "showTitle": false,
     "tableResultSettingsMap": {},
     "title": ""
    }
   },
   "source": [
    "## Initialize Global Settings"
   ]
  },
  {
   "cell_type": "code",
   "execution_count": 0,
   "metadata": {
    "application/vnd.databricks.v1+cell": {
     "cellMetadata": {
      "byteLimit": 2048000,
      "rowLimit": 10000
     },
     "inputWidgets": {},
     "nuid": "4a407466-fcb3-40a5-a40c-e2b44f04652c",
     "showTitle": false,
     "tableResultSettingsMap": {},
     "title": ""
    }
   },
   "outputs": [],
   "source": [
    "from databricks_langchain import ChatDatabricks\n",
    "from databricks.sdk import WorkspaceClient\n",
    "import os\n",
    "from typing import Annotated, TypedDict, Literal\n",
    "from langgraph.prebuilt import ToolNode\n",
    "from langchain_core.tools import tool, StructuredTool\n",
    "from langgraph.graph import START, StateGraph\n",
    "from langgraph.graph.message import AnyMessage, add_messages\n",
    "\n",
    "w = WorkspaceClient()\n",
    "\n",
    "os.environ[\"DATABRICKS_HOST\"] = w.config.host\n",
    "os.environ[\"DATABRICKS_TOKEN\"] = w.tokens.create(comment=\"for model serving\", lifetime_seconds=1200).token_value\n",
    "\n",
    "llm = ChatDatabricks(endpoint=\"databricks-meta-llama-3-3-70b-instruct\")"
   ]
  },
  {
   "cell_type": "markdown",
   "metadata": {
    "application/vnd.databricks.v1+cell": {
     "cellMetadata": {},
     "inputWidgets": {},
     "nuid": "5149a96b-26ef-4303-9189-70155f3508fc",
     "showTitle": false,
     "tableResultSettingsMap": {},
     "title": ""
    }
   },
   "source": [
    "## Test Prompt"
   ]
  },
  {
   "cell_type": "code",
   "execution_count": 0,
   "metadata": {
    "application/vnd.databricks.v1+cell": {
     "cellMetadata": {
      "byteLimit": 2048000,
      "rowLimit": 10000
     },
     "inputWidgets": {},
     "nuid": "49bde61c-6f9a-4291-988d-09f3417683ee",
     "showTitle": false,
     "tableResultSettingsMap": {},
     "title": ""
    }
   },
   "outputs": [],
   "source": [
    "llm.invoke(\"hello, world\")"
   ]
  },
  {
   "cell_type": "markdown",
   "metadata": {
    "application/vnd.databricks.v1+cell": {
     "cellMetadata": {},
     "inputWidgets": {},
     "nuid": "fa046016-f11d-4cb7-81c4-e7f124235bf1",
     "showTitle": false,
     "tableResultSettingsMap": {},
     "title": ""
    }
   },
   "source": [
    "## Tools"
   ]
  },
  {
   "cell_type": "code",
   "execution_count": 0,
   "metadata": {
    "application/vnd.databricks.v1+cell": {
     "cellMetadata": {
      "byteLimit": 2048000,
      "rowLimit": 10000
     },
     "inputWidgets": {},
     "nuid": "563732d4-c69d-4ecf-85ed-bf286a591062",
     "showTitle": false,
     "tableResultSettingsMap": {},
     "title": ""
    }
   },
   "outputs": [],
   "source": [
    "@tool\n",
    "def get_wheel_chair_accessibility(city: str, accessibility: str, business_category: str) -> str:\n",
    "    \"\"\"\n",
    "    Searches the Nimble Google Maps dataset for places in the specified city that match the given accessibility feature and business category.\n",
    "    The agent should provide the city name, specify 'wheelchair' or related accessibility terms for the accessibility parameter,\n",
    "    and specify the type of business (e.g., restaurant, hotel) for the business_category parameter.\n",
    "    Returns: up to 5 matching places as JSON.\n",
    "    \"\"\"\n",
    "    query = f\"\"\"\n",
    "    SELECT *\n",
    "    FROM `dais-hackathon-2025`.nimble.dbx_google_maps_search_daily\n",
    "    WHERE city = '{city}'\n",
    "      AND exists(\n",
    "        accessibility,\n",
    "        a -> a.display_name ILIKE '%{accessibility}%'\n",
    "      )\n",
    "      AND exists(\n",
    "        business_category_ids,\n",
    "        category -> category ILIKE '%{business_category}%'\n",
    "      )\n",
    "    LIMIT 5;\n",
    "    \"\"\"\n",
    "    print(f\"Executing query: {query}\")  # debug\n",
    "    df = spark.sql(query).toPandas()\n",
    "    return df.to_json(orient='records', indent=2)"
   ]
  },
  {
   "cell_type": "code",
   "execution_count": 0,
   "metadata": {
    "application/vnd.databricks.v1+cell": {
     "cellMetadata": {
      "byteLimit": 2048000,
      "rowLimit": 10000
     },
     "inputWidgets": {},
     "nuid": "6802f2ff-dfc8-436d-9a3c-e726e33152c5",
     "showTitle": false,
     "tableResultSettingsMap": {},
     "title": ""
    }
   },
   "outputs": [],
   "source": [
    "# List of tools that will be accessible to the graph via the ToolNode\n",
    "tools = [get_wheel_chair_accessibility]\n",
    "tool_node = ToolNode(tools)\n",
    "\n",
    "# This is the default state same as \"MessageState\" TypedDict but allows us accessibility to custom keys\n",
    "class GraphsState(TypedDict):\n",
    "    messages: Annotated[list[AnyMessage], add_messages]\n",
    "    # Custom keys for additional data can be added here such as - conversation_id: str\n",
    "\n",
    "graph = StateGraph(GraphsState)\n",
    "\n",
    "# Function to decide whether to continue tool usage or end the process\n",
    "def should_continue(state: GraphsState) -> Literal[\"tools\", \"__end__\"]:\n",
    "    messages = state[\"messages\"]\n",
    "    last_message = messages[-1]\n",
    "    if last_message.tool_calls:  # Check if the last message has any tool calls\n",
    "        return \"tools\"  # Continue to tool execution\n",
    "    return \"__end__\"  # End the conversation if no tool is needed\n",
    "# Core invocation of the model\n",
    "def _call_model(state: GraphsState):\n",
    "    messages = state[\"messages\"]\n",
    "    llm = ChatDatabricks(endpoint=\"databricks-meta-llama-3-3-70b-instruct\").bind_tools(tools)\n",
    "    response = llm.invoke(messages)\n",
    "    return {\"messages\": [response]}  # add the response to the messages using LangGraph reducer paradigm\n",
    "\n",
    "# Define the structure (nodes and directional edges between nodes) of the graph\n",
    "graph.add_edge(START, \"modelNode\")\n",
    "graph.add_node(\"tools\", tool_node)\n",
    "graph.add_node(\"modelNode\", _call_model)\n",
    "\n",
    "# Add conditional logic to determine the next step based on the state (to continue or to end)\n",
    "graph.add_conditional_edges(\n",
    "    \"modelNode\",\n",
    "    should_continue,  # This function will decide the flow of execution\n",
    ")\n",
    "graph.add_edge(\"tools\", \"modelNode\")\n",
    "\n",
    "# Compile the state graph into a runnable object\n",
    "graph_runnable = graph.compile()\n",
    "def invoke_our_graph(st_messages):\n",
    "    return graph_runnable.invoke({\"messages\": st_messages})"
   ]
  },
  {
   "cell_type": "code",
   "execution_count": 0,
   "metadata": {
    "application/vnd.databricks.v1+cell": {
     "cellMetadata": {
      "byteLimit": 2048000,
      "rowLimit": 10000
     },
     "inputWidgets": {},
     "nuid": "ccc52f76-654b-4e40-84bf-8b32d8ce413a",
     "showTitle": false,
     "tableResultSettingsMap": {},
     "title": ""
    }
   },
   "outputs": [],
   "source": [
    "invoke_our_graph(\"get me wheelchair accessible resturants in San Francisco\")"
   ]
  },
  {
   "cell_type": "code",
   "execution_count": 0,
   "metadata": {
    "application/vnd.databricks.v1+cell": {
     "cellMetadata": {},
     "inputWidgets": {},
     "nuid": "152188c5-6145-43ca-b928-eb66abce4e82",
     "showTitle": false,
     "tableResultSettingsMap": {},
     "title": ""
    }
   },
   "outputs": [],
   "source": []
  }
 ],
 "metadata": {
  "application/vnd.databricks.v1+notebook": {
   "computePreferences": null,
   "dashboards": [],
   "environmentMetadata": {
    "base_environment": "",
    "environment_version": "2"
   },
   "inputWidgetPreferences": null,
   "language": "python",
   "notebookMetadata": {
    "pythonIndentUnit": 4
   },
   "notebookName": "LangGraph-Agent",
   "widgets": {}
  },
  "language_info": {
   "name": "python"
  }
 },
 "nbformat": 4,
 "nbformat_minor": 0
}
